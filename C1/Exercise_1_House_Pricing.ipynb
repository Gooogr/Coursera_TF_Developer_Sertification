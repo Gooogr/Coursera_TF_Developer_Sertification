{
 "cells": [
  {
   "cell_type": "markdown",
   "metadata": {
    "colab_type": "text",
    "id": "mw2VBrBcgvGa"
   },
   "source": [
    "In this exercise you'll try to build a neural network that predicts the price of a house according to a simple formula.\n",
    "\n",
    "So, imagine if house pricing was as easy as a house costs 50k + 50k per bedroom, so that a 1 bedroom house costs 100k, a 2 bedroom house costs 150k etc.\n",
    "\n",
    "How would you create a neural network that learns this relationship so that it would predict a 7 bedroom house as costing close to 400k etc.\n",
    "\n",
    "Hint: Your network might work better if you scale the house price down. You don't have to give the answer 400...it might be better to create something that predicts the number 4, and then your answer is in the 'hundreds of thousands' etc."
   ]
  },
  {
   "cell_type": "code",
   "execution_count": 1,
   "metadata": {},
   "outputs": [],
   "source": [
    "import tensorflow as tf\n",
    "import numpy as np\n",
    "from tensorflow import keras"
   ]
  },
  {
   "cell_type": "code",
   "execution_count": 16,
   "metadata": {
    "colab": {},
    "colab_type": "code",
    "id": "PUNO2E6SeURH"
   },
   "outputs": [],
   "source": [
    "# GRADED FUNCTION: house_model\n",
    "def house_model(y_new):\n",
    "    xs = np.array([1.0, 2.0, 3.0, 4.0, 5.0, 6.0, 7.0, 8.0, 9.0], dtype=float)\n",
    "    ys = np.array([1.0, 1.5, 2.0, 2.5, 3.0, 3.5, 4.0, 4.5, 5.0], dtype=float)\n",
    "    model = tf.keras.Sequential([keras.layers.Dense(units=1, input_shape=[1])])\n",
    "    model.compile(optimizer='sgd', loss='mean_squared_error')\n",
    "    model.fit(xs, ys, epochs=100)\n",
    "    return model.predict(y_new)[0]"
   ]
  },
  {
   "cell_type": "code",
   "execution_count": 17,
   "metadata": {},
   "outputs": [
    {
     "name": "stdout",
     "output_type": "stream",
     "text": [
      "Epoch 1/100\n",
      "9/9 [==============================] - 0s 23ms/sample - loss: 1.2413\n",
      "Epoch 2/100\n",
      "9/9 [==============================] - 0s 154us/sample - loss: 0.1931\n",
      "Epoch 3/100\n",
      "9/9 [==============================] - 0s 135us/sample - loss: 0.0638\n",
      "Epoch 4/100\n",
      "9/9 [==============================] - 0s 130us/sample - loss: 0.0476\n",
      "Epoch 5/100\n",
      "9/9 [==============================] - 0s 135us/sample - loss: 0.0453\n",
      "Epoch 6/100\n",
      "9/9 [==============================] - 0s 113us/sample - loss: 0.0446\n",
      "Epoch 7/100\n",
      "9/9 [==============================] - 0s 119us/sample - loss: 0.0443\n",
      "Epoch 8/100\n",
      "9/9 [==============================] - 0s 8ms/sample - loss: 0.0439\n",
      "Epoch 9/100\n",
      "9/9 [==============================] - 0s 164us/sample - loss: 0.0435\n",
      "Epoch 10/100\n",
      "9/9 [==============================] - 0s 123us/sample - loss: 0.0432\n",
      "Epoch 11/100\n",
      "9/9 [==============================] - 0s 133us/sample - loss: 0.0428\n",
      "Epoch 12/100\n",
      "9/9 [==============================] - 0s 126us/sample - loss: 0.0425\n",
      "Epoch 13/100\n",
      "9/9 [==============================] - 0s 130us/sample - loss: 0.0421\n",
      "Epoch 14/100\n",
      "9/9 [==============================] - 0s 125us/sample - loss: 0.0418\n",
      "Epoch 15/100\n",
      "9/9 [==============================] - 0s 146us/sample - loss: 0.0414\n",
      "Epoch 16/100\n",
      "9/9 [==============================] - 0s 132us/sample - loss: 0.0411\n",
      "Epoch 17/100\n",
      "9/9 [==============================] - 0s 133us/sample - loss: 0.0408\n",
      "Epoch 18/100\n",
      "9/9 [==============================] - 0s 137us/sample - loss: 0.0404\n",
      "Epoch 19/100\n",
      "9/9 [==============================] - 0s 123us/sample - loss: 0.0401\n",
      "Epoch 20/100\n",
      "9/9 [==============================] - 0s 127us/sample - loss: 0.0398\n",
      "Epoch 21/100\n",
      "9/9 [==============================] - 0s 9ms/sample - loss: 0.0394\n",
      "Epoch 22/100\n",
      "9/9 [==============================] - 0s 153us/sample - loss: 0.0391\n",
      "Epoch 23/100\n",
      "9/9 [==============================] - 0s 148us/sample - loss: 0.0388\n",
      "Epoch 24/100\n",
      "9/9 [==============================] - 0s 147us/sample - loss: 0.0385\n",
      "Epoch 25/100\n",
      "9/9 [==============================] - 0s 139us/sample - loss: 0.0382\n",
      "Epoch 26/100\n",
      "9/9 [==============================] - 0s 141us/sample - loss: 0.0378\n",
      "Epoch 27/100\n",
      "9/9 [==============================] - 0s 132us/sample - loss: 0.0375\n",
      "Epoch 28/100\n",
      "9/9 [==============================] - 0s 114us/sample - loss: 0.0372\n",
      "Epoch 29/100\n",
      "9/9 [==============================] - 0s 127us/sample - loss: 0.0369\n",
      "Epoch 30/100\n",
      "9/9 [==============================] - 0s 140us/sample - loss: 0.0366\n",
      "Epoch 31/100\n",
      "9/9 [==============================] - 0s 132us/sample - loss: 0.0363\n",
      "Epoch 32/100\n",
      "9/9 [==============================] - 0s 133us/sample - loss: 0.0360\n",
      "Epoch 33/100\n",
      "9/9 [==============================] - 0s 137us/sample - loss: 0.0357\n",
      "Epoch 34/100\n",
      "9/9 [==============================] - 0s 151us/sample - loss: 0.0354\n",
      "Epoch 35/100\n",
      "9/9 [==============================] - 0s 163us/sample - loss: 0.0351\n",
      "Epoch 36/100\n",
      "9/9 [==============================] - 0s 137us/sample - loss: 0.0349\n",
      "Epoch 37/100\n",
      "9/9 [==============================] - 0s 132us/sample - loss: 0.0346\n",
      "Epoch 38/100\n",
      "9/9 [==============================] - 0s 140us/sample - loss: 0.0343\n",
      "Epoch 39/100\n",
      "9/9 [==============================] - 0s 133us/sample - loss: 0.0340\n",
      "Epoch 40/100\n",
      "9/9 [==============================] - 0s 112us/sample - loss: 0.0337\n",
      "Epoch 41/100\n",
      "9/9 [==============================] - 0s 116us/sample - loss: 0.0334\n",
      "Epoch 42/100\n",
      "9/9 [==============================] - 0s 133us/sample - loss: 0.0332\n",
      "Epoch 43/100\n",
      "9/9 [==============================] - 0s 128us/sample - loss: 0.0329\n",
      "Epoch 44/100\n",
      "9/9 [==============================] - 0s 117us/sample - loss: 0.0326\n",
      "Epoch 45/100\n",
      "9/9 [==============================] - 0s 9ms/sample - loss: 0.0324\n",
      "Epoch 46/100\n",
      "9/9 [==============================] - 0s 158us/sample - loss: 0.0321\n",
      "Epoch 47/100\n",
      "9/9 [==============================] - 0s 153us/sample - loss: 0.0318\n",
      "Epoch 48/100\n",
      "9/9 [==============================] - 0s 131us/sample - loss: 0.0316\n",
      "Epoch 49/100\n",
      "9/9 [==============================] - 0s 119us/sample - loss: 0.0313\n",
      "Epoch 50/100\n",
      "9/9 [==============================] - 0s 124us/sample - loss: 0.0311\n",
      "Epoch 51/100\n",
      "9/9 [==============================] - 0s 141us/sample - loss: 0.0308\n",
      "Epoch 52/100\n",
      "9/9 [==============================] - 0s 145us/sample - loss: 0.0306\n",
      "Epoch 53/100\n",
      "9/9 [==============================] - 0s 143us/sample - loss: 0.0303\n",
      "Epoch 54/100\n",
      "9/9 [==============================] - 0s 155us/sample - loss: 0.0301\n",
      "Epoch 55/100\n",
      "9/9 [==============================] - 0s 117us/sample - loss: 0.0298\n",
      "Epoch 56/100\n",
      "9/9 [==============================] - 0s 126us/sample - loss: 0.0296\n",
      "Epoch 57/100\n",
      "9/9 [==============================] - 0s 134us/sample - loss: 0.0293\n",
      "Epoch 58/100\n",
      "9/9 [==============================] - 0s 141us/sample - loss: 0.0291\n",
      "Epoch 59/100\n",
      "9/9 [==============================] - 0s 132us/sample - loss: 0.0288\n",
      "Epoch 60/100\n",
      "9/9 [==============================] - 0s 117us/sample - loss: 0.0286\n",
      "Epoch 61/100\n",
      "9/9 [==============================] - 0s 147us/sample - loss: 0.0284\n",
      "Epoch 62/100\n",
      "9/9 [==============================] - 0s 143us/sample - loss: 0.0281\n",
      "Epoch 63/100\n",
      "9/9 [==============================] - 0s 128us/sample - loss: 0.0279\n",
      "Epoch 64/100\n",
      "9/9 [==============================] - 0s 138us/sample - loss: 0.0277\n",
      "Epoch 65/100\n",
      "9/9 [==============================] - 0s 181us/sample - loss: 0.0275\n",
      "Epoch 66/100\n",
      "9/9 [==============================] - 0s 150us/sample - loss: 0.0272\n",
      "Epoch 67/100\n",
      "9/9 [==============================] - 0s 127us/sample - loss: 0.0270\n",
      "Epoch 68/100\n",
      "9/9 [==============================] - 0s 123us/sample - loss: 0.0268\n",
      "Epoch 69/100\n",
      "9/9 [==============================] - 0s 119us/sample - loss: 0.0266\n",
      "Epoch 70/100\n",
      "9/9 [==============================] - 0s 122us/sample - loss: 0.0263\n",
      "Epoch 71/100\n",
      "9/9 [==============================] - 0s 129us/sample - loss: 0.0261\n",
      "Epoch 72/100\n",
      "9/9 [==============================] - 0s 124us/sample - loss: 0.0259\n",
      "Epoch 73/100\n",
      "9/9 [==============================] - 0s 117us/sample - loss: 0.0257\n",
      "Epoch 74/100\n",
      "9/9 [==============================] - 0s 122us/sample - loss: 0.0255\n",
      "Epoch 75/100\n",
      "9/9 [==============================] - 0s 132us/sample - loss: 0.0253\n",
      "Epoch 76/100\n",
      "9/9 [==============================] - 0s 9ms/sample - loss: 0.0251\n",
      "Epoch 77/100\n",
      "9/9 [==============================] - 0s 153us/sample - loss: 0.0249\n",
      "Epoch 78/100\n",
      "9/9 [==============================] - 0s 146us/sample - loss: 0.0247\n",
      "Epoch 79/100\n",
      "9/9 [==============================] - 0s 129us/sample - loss: 0.0245\n",
      "Epoch 80/100\n",
      "9/9 [==============================] - 0s 117us/sample - loss: 0.0243\n",
      "Epoch 81/100\n",
      "9/9 [==============================] - 0s 113us/sample - loss: 0.0241\n",
      "Epoch 82/100\n",
      "9/9 [==============================] - 0s 112us/sample - loss: 0.0239\n",
      "Epoch 83/100\n",
      "9/9 [==============================] - 0s 114us/sample - loss: 0.0237\n",
      "Epoch 84/100\n",
      "9/9 [==============================] - 0s 113us/sample - loss: 0.0235\n",
      "Epoch 85/100\n",
      "9/9 [==============================] - 0s 114us/sample - loss: 0.0233\n",
      "Epoch 86/100\n",
      "9/9 [==============================] - 0s 124us/sample - loss: 0.0231\n",
      "Epoch 87/100\n",
      "9/9 [==============================] - 0s 117us/sample - loss: 0.0229\n",
      "Epoch 88/100\n",
      "9/9 [==============================] - 0s 9ms/sample - loss: 0.0227\n",
      "Epoch 89/100\n",
      "9/9 [==============================] - 0s 149us/sample - loss: 0.0225\n",
      "Epoch 90/100\n",
      "9/9 [==============================] - 0s 139us/sample - loss: 0.0223\n",
      "Epoch 91/100\n",
      "9/9 [==============================] - 0s 138us/sample - loss: 0.0222\n",
      "Epoch 92/100\n",
      "9/9 [==============================] - 0s 125us/sample - loss: 0.0220\n",
      "Epoch 93/100\n",
      "9/9 [==============================] - 0s 133us/sample - loss: 0.0218\n",
      "Epoch 94/100\n",
      "9/9 [==============================] - 0s 139us/sample - loss: 0.0216\n",
      "Epoch 95/100\n",
      "9/9 [==============================] - 0s 141us/sample - loss: 0.0214\n",
      "Epoch 96/100\n",
      "9/9 [==============================] - 0s 119us/sample - loss: 0.0213\n",
      "Epoch 97/100\n",
      "9/9 [==============================] - 0s 136us/sample - loss: 0.0211\n",
      "Epoch 98/100\n",
      "9/9 [==============================] - 0s 144us/sample - loss: 0.0209\n",
      "Epoch 99/100\n",
      "9/9 [==============================] - 0s 179us/sample - loss: 0.0207\n",
      "Epoch 100/100\n",
      "9/9 [==============================] - 0s 160us/sample - loss: 0.0206\n",
      "[4.03502]\n"
     ]
    }
   ],
   "source": [
    "prediction = house_model([7.0])\n",
    "print(prediction)"
   ]
  },
  {
   "cell_type": "code",
   "execution_count": 7,
   "metadata": {},
   "outputs": [],
   "source": [
    "# Now click the 'Submit Assignment' button above.\n",
    "# Once that is complete, please run the following two cells to save your work and close the notebook"
   ]
  },
  {
   "cell_type": "code",
   "execution_count": 8,
   "metadata": {},
   "outputs": [
    {
     "data": {
      "application/javascript": [
       "<!-- Save the notebook -->\n",
       "IPython.notebook.save_checkpoint();\n"
      ],
      "text/plain": [
       "<IPython.core.display.Javascript object>"
      ]
     },
     "metadata": {},
     "output_type": "display_data"
    }
   ],
   "source": [
    "%%javascript\n",
    "<!-- Save the notebook -->\n",
    "IPython.notebook.save_checkpoint();"
   ]
  },
  {
   "cell_type": "code",
   "execution_count": null,
   "metadata": {},
   "outputs": [
    {
     "data": {
      "application/javascript": [
       "IPython.notebook.session.delete();\n",
       "window.onbeforeunload = null\n",
       "setTimeout(function() { window.close(); }, 1000);\n"
      ],
      "text/plain": [
       "<IPython.core.display.Javascript object>"
      ]
     },
     "metadata": {},
     "output_type": "display_data"
    }
   ],
   "source": [
    "%%javascript\n",
    "IPython.notebook.session.delete();\n",
    "window.onbeforeunload = null\n",
    "setTimeout(function() { window.close(); }, 1000);"
   ]
  },
  {
   "cell_type": "code",
   "execution_count": null,
   "metadata": {},
   "outputs": [],
   "source": []
  }
 ],
 "metadata": {
  "coursera": {
   "course_slug": "introduction-tensorflow",
   "graded_item_id": "jRjw8",
   "launcher_item_id": "YoQKl"
  },
  "kernelspec": {
   "display_name": "Python 3",
   "language": "python",
   "name": "python3"
  },
  "language_info": {
   "codemirror_mode": {
    "name": "ipython",
    "version": 3
   },
   "file_extension": ".py",
   "mimetype": "text/x-python",
   "name": "python",
   "nbconvert_exporter": "python",
   "pygments_lexer": "ipython3",
   "version": "3.6.8"
  }
 },
 "nbformat": 4,
 "nbformat_minor": 2
}
